{
 "cells": [
  {
   "cell_type": "code",
   "execution_count": 1,
   "metadata": {
    "collapsed": true
   },
   "outputs": [],
   "source": [
    "import tensorflow as tf"
   ]
  },
  {
   "cell_type": "markdown",
   "metadata": {},
   "source": [
    "#### 创建一个队列对输入文件列表进行维护"
   ]
  },
  {
   "cell_type": "code",
   "execution_count": 2,
   "metadata": {
    "collapsed": true
   },
   "outputs": [],
   "source": [
    "filename_queue = tf.train.string_input_producer(['./input/data.csv'])"
   ]
  },
  {
   "cell_type": "markdown",
   "metadata": {},
   "source": [
    "#### 调用构造函数实例化一个TextLineReader类"
   ]
  },
  {
   "cell_type": "code",
   "execution_count": 3,
   "metadata": {
    "collapsed": true
   },
   "outputs": [],
   "source": [
    "reader = tf.TextLineReader()\n",
    "key,value = reader.read(filename_queue)"
   ]
  },
  {
   "cell_type": "markdown",
   "metadata": {},
   "source": [
    "#### 是用于指定矩阵格式以及数据类型的，CSV文件中的矩阵，是mxn的，则此处为1xn，\n",
    "#### [1]中的1用于指定数据类型，比如矩阵中如果有小数，则为float,[1]应该变为[1.0]。"
   ]
  },
  {
   "cell_type": "code",
   "execution_count": 6,
   "metadata": {
    "collapsed": true
   },
   "outputs": [],
   "source": [
    "record_defaults = [[1.0,], [1.0], [1.0], [1.0]]"
   ]
  },
  {
   "cell_type": "markdown",
   "metadata": {},
   "source": [
    "#### col是矩阵的列数，\n",
    "#### decode_csv()函数原型decode_csv(records,record_defaults,field_delim,name)"
   ]
  },
  {
   "cell_type": "code",
   "execution_count": 7,
   "metadata": {
    "collapsed": false
   },
   "outputs": [],
   "source": [
    "col1,col2,col3,col4 = tf.decode_csv(value,record_defaults=record_defaults)"
   ]
  },
  {
   "cell_type": "markdown",
   "metadata": {},
   "source": [
    "##### concat()函数用于拼接要求参与拼接的数据拥有一致的数据类型\n",
    "#### concat()函数原型为concat(values,axis,name)\n",
    "#### axis参数选择拼接的维度，axis=0则在某一个shape的第一个维度上(行)进行拼接，\n",
    "#### axis=1则在某一个shape的第二个维度上(列)进行拼接"
   ]
  },
  {
   "cell_type": "code",
   "execution_count": 8,
   "metadata": {
    "collapsed": true
   },
   "outputs": [],
   "source": [
    "features = tf.concat([[col1],[col2],[col3]],0)"
   ]
  },
  {
   "cell_type": "code",
   "execution_count": 10,
   "metadata": {
    "collapsed": false
   },
   "outputs": [
    {
     "name": "stdout",
     "output_type": "stream",
     "text": [
      "[1. 2. 3.]\n",
      "4.0\n",
      "[1.1 2.  3. ]\n",
      "4.0\n",
      "[1.2 2.  3. ]\n",
      "4.0\n",
      "[1.3 2.  3. ]\n",
      "4.0\n",
      "[1. 2. 3.]\n",
      "4.0\n"
     ]
    }
   ],
   "source": [
    "with tf.Session() as sess:\n",
    "    coordinator = tf.train.Coordinator()\n",
    "    threads= tf.train.start_queue_runners(coord=coordinator)\n",
    "    for i in range(5):\n",
    "        example,label = sess.run([features,col4])\n",
    "        print(example)\n",
    "        print(label)\n",
    "        \n",
    "    coordinator.request_stop()\n",
    "    coordinator.join(threads)"
   ]
  },
  {
   "cell_type": "code",
   "execution_count": null,
   "metadata": {
    "collapsed": true
   },
   "outputs": [],
   "source": []
  }
 ],
 "metadata": {
  "anaconda-cloud": {},
  "kernelspec": {
   "display_name": "Python [conda root]",
   "language": "python",
   "name": "conda-root-py"
  },
  "language_info": {
   "codemirror_mode": {
    "name": "ipython",
    "version": 3
   },
   "file_extension": ".py",
   "mimetype": "text/x-python",
   "name": "python",
   "nbconvert_exporter": "python",
   "pygments_lexer": "ipython3",
   "version": "3.5.2"
  }
 },
 "nbformat": 4,
 "nbformat_minor": 1
}
