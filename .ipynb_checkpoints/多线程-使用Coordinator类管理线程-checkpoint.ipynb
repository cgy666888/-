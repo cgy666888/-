{
 "cells": [
  {
   "cell_type": "code",
   "execution_count": 1,
   "metadata": {
    "collapsed": true
   },
   "outputs": [],
   "source": [
    "import tensorflow as tf\n",
    "import numpy as np\n",
    "import threading\n",
    "import time"
   ]
  },
  {
   "cell_type": "markdown",
   "metadata": {},
   "source": [
    "#### 定义每个线程执行的操作"
   ]
  },
  {
   "cell_type": "code",
   "execution_count": 2,
   "metadata": {
    "collapsed": true
   },
   "outputs": [],
   "source": [
    "def Thread_op(coordinator, thread_id):\n",
    "    # 判断should_stop()函数的状态\n",
    "    while coordinator.should_stop() == False:\n",
    "        if np.random.rand() < 0.1:\n",
    "            print(\"Stoping from thread_id: %d\" % thread_id)\n",
    "            # 调用request_stop()函数请求所有线程停止\n",
    "            #request_stop(self,ex)\n",
    "            coordinator.request_stop()\n",
    "        else:\n",
    "            print(\"Working on thread_id: %d\" % thread_id)\n",
    "\n",
    "        # 如果线程没有停止，则休息10秒钟后再次执行循环\n",
    "        time.sleep(10)"
   ]
  },
  {
   "cell_type": "markdown",
   "metadata": {},
   "source": [
    "#### 实例化Coordinator类"
   ]
  },
  {
   "cell_type": "code",
   "execution_count": 3,
   "metadata": {
    "collapsed": true
   },
   "outputs": [],
   "source": [
    "coordinator = tf.train.Coordinator()"
   ]
  },
  {
   "cell_type": "markdown",
   "metadata": {},
   "source": [
    "#### 通过Python中threading类的Thread()函数创建5个线程\n",
    "#### __init__(self,group,target,name,args,kwargs,daemon)"
   ]
  },
  {
   "cell_type": "code",
   "execution_count": 4,
   "metadata": {
    "collapsed": true
   },
   "outputs": [],
   "source": [
    "threads = [threading.Thread(target=Thread_op, args=(coordinator, i)) for i in range(5)]"
   ]
  },
  {
   "cell_type": "markdown",
   "metadata": {},
   "source": [
    "#### 启动创建的5个线程"
   ]
  },
  {
   "cell_type": "code",
   "execution_count": 5,
   "metadata": {
    "collapsed": false
   },
   "outputs": [
    {
     "name": "stdout",
     "output_type": "stream",
     "text": [
      "Working on thread_id: 0\n",
      "Working on thread_id: 1\n",
      "Working on thread_id: 2\n",
      "Working on thread_id: 3\n",
      "Working on thread_id: 4\n"
     ]
    }
   ],
   "source": [
    "for j in threads:\n",
    "    #start(self)\n",
    "    j.start()"
   ]
  },
  {
   "cell_type": "markdown",
   "metadata": {},
   "source": [
    "#### 将Coordinator类加入到线程并等待所有线程退出\n",
    "#### join(self,threads,stop_grace_period_secs)"
   ]
  },
  {
   "cell_type": "code",
   "execution_count": 6,
   "metadata": {
    "collapsed": false
   },
   "outputs": [
    {
     "name": "stdout",
     "output_type": "stream",
     "text": [
      "Working on thread_id: 0\n",
      "Working on thread_id: 2\n",
      "Working on thread_id: 1\n",
      "Working on thread_id: 3\n",
      "Stoping from thread_id: 4\n"
     ]
    }
   ],
   "source": [
    "\n",
    "coordinator.join(threads)"
   ]
  },
  {
   "cell_type": "code",
   "execution_count": null,
   "metadata": {
    "collapsed": true
   },
   "outputs": [],
   "source": []
  }
 ],
 "metadata": {
  "anaconda-cloud": {},
  "kernelspec": {
   "display_name": "Python [conda root]",
   "language": "python",
   "name": "conda-root-py"
  },
  "language_info": {
   "codemirror_mode": {
    "name": "ipython",
    "version": 3
   },
   "file_extension": ".py",
   "mimetype": "text/x-python",
   "name": "python",
   "nbconvert_exporter": "python",
   "pygments_lexer": "ipython3",
   "version": "3.5.2"
  }
 },
 "nbformat": 4,
 "nbformat_minor": 1
}
