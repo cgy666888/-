{
 "cells": [
  {
   "cell_type": "markdown",
   "metadata": {},
   "source": [
    "# 数据队列 and 文件队列"
   ]
  },
  {
   "cell_type": "markdown",
   "metadata": {},
   "source": [
    "### 数据队列"
   ]
  },
  {
   "cell_type": "code",
   "execution_count": null,
   "metadata": {
    "collapsed": true
   },
   "outputs": [],
   "source": [
    "import tensorflow as tf"
   ]
  },
  {
   "cell_type": "markdown",
   "metadata": {},
   "source": [
    "#### 创建FIFOQueue先进先出队列，同时指定队列中可以保存的元素个数以及数据类型\n",
    "#### 原型_init_(self,capacity,dtypes,shared_name,names,shapes,name)"
   ]
  },
  {
   "cell_type": "code",
   "execution_count": null,
   "metadata": {
    "collapsed": true
   },
   "outputs": [],
   "source": [
    "Queue = tf.FIFOQueue(2,'int32')"
   ]
  },
  {
   "cell_type": "markdown",
   "metadata": {},
   "source": [
    "#### 使用FIFOQueue类的enqueue_many()函数初始化队列中的元素\n",
    "#### 和初始化变量类似，在使用队列前需要明确调用初始化过程\n",
    "#### #dequeue_many(self,n,name)"
   ]
  },
  {
   "cell_type": "code",
   "execution_count": null,
   "metadata": {
    "collapsed": true
   },
   "outputs": [],
   "source": [
    "queue_init = Queue.enqueue_many(([10,100],))"
   ]
  },
  {
   "cell_type": "markdown",
   "metadata": {},
   "source": [
    "#### FIFOQueue类的dequeue()函数可以将队列队首的一个元素出队\n",
    "#### #dequeue(self,name)"
   ]
  },
  {
   "cell_type": "code",
   "execution_count": null,
   "metadata": {
    "collapsed": true
   },
   "outputs": [],
   "source": [
    "a= Queue.dequeue()\n",
    "b=a+10"
   ]
  },
  {
   "cell_type": "markdown",
   "metadata": {},
   "source": [
    "#### FIFOQueue类的enqueue()函数可以将一个元素从队列队尾入队\n",
    "#### enqueue(self,vals,name)"
   ]
  },
  {
   "cell_type": "code",
   "execution_count": null,
   "metadata": {
    "collapsed": true
   },
   "outputs": [],
   "source": [
    "Queue_en = Queue.enqueue([b])"
   ]
  },
  {
   "cell_type": "code",
   "execution_count": null,
   "metadata": {
    "collapsed": false
   },
   "outputs": [],
   "source": [
    "with tf.Session() as sess:\n",
    "    queue_init.run()\n",
    "    for i in range(5):\n",
    "        v,_ =sess.run([a,Queue_en])\n",
    "        print(v)"
   ]
  },
  {
   "cell_type": "markdown",
   "metadata": {},
   "source": [
    "## 文件队列- 产生两个文件"
   ]
  },
  {
   "cell_type": "code",
   "execution_count": null,
   "metadata": {
    "collapsed": false
   },
   "outputs": [],
   "source": [
    "import tensorflow as tf\n",
    "import numpy as np\n",
    "from tensorflow.examples.tutorials.mnist import input_data"
   ]
  },
  {
   "cell_type": "code",
   "execution_count": null,
   "metadata": {
    "collapsed": false
   },
   "outputs": [],
   "source": [
    "mnist = input_data.read_data_sets('./input/MNIST_data',dtype=tf.uint8,one_hot=True)\n",
    "\n",
    "def _int64_feature(value):\n",
    "    return tf.train.Feature(int64_list= tf.train.Int64List(value=[value]))\n",
    "\n",
    "def _bytes_feature(value):\n",
    "    return tf.train.Feature(bytes_list=tf.train.BytesList(value=[value]))\n",
    "\n",
    "images = mnist.test.images\n",
    "labels = mnist.test.labels\n",
    "pixels = images.shape[1]\n",
    "num_examples = mnist.test.num_examples"
   ]
  },
  {
   "cell_type": "markdown",
   "metadata": {},
   "source": [
    "#### num_files定义总共写入多少个文件"
   ]
  },
  {
   "cell_type": "code",
   "execution_count": null,
   "metadata": {
    "collapsed": false
   },
   "outputs": [],
   "source": [
    "num_files = 2\n",
    "\n",
    "for i in range(num_files):\n",
    "    #将数据写入多个文件时，为区分这些文件可以添加后缀\n",
    "    filename = ('./output/data_tfrecords-%.1d-of-%.1d' % (i,num_files))\n",
    "    writer = tf.python_io.TFRecordWriter(filename)\n",
    "    #将Example结构写入TFRecord文件。\n",
    "    for index in range(num_examples):\n",
    "        image_string = images[index].tostring()\n",
    "        example = tf.train.Example(features=tf.train.Features(\n",
    "            feature={\n",
    "                    'pixels':_int64_feature(pixels),\n",
    "                    'label': _int64_feature(np.argmax(labels[index])),\n",
    "                    'image_raw':_bytes_feature(image_string)\n",
    "                    \n",
    "                }\n",
    "            \n",
    "            ))\n",
    "        writer.write(example.SerializeToString())\n",
    "    writer.close()\n",
    "    "
   ]
  },
  {
   "cell_type": "markdown",
   "metadata": {},
   "source": [
    "## 文件队列-- 队列文件读取"
   ]
  },
  {
   "cell_type": "code",
   "execution_count": 1,
   "metadata": {
    "collapsed": true
   },
   "outputs": [],
   "source": [
    "import tensorflow as tf"
   ]
  },
  {
   "cell_type": "markdown",
   "metadata": {},
   "source": [
    "#### 使用match_filenames_once()函数获取符合正则表达式的所有文件\n",
    "#### 函数原型match_filenames_once(pattern,name)"
   ]
  },
  {
   "cell_type": "code",
   "execution_count": 2,
   "metadata": {
    "collapsed": true
   },
   "outputs": [],
   "source": [
    "files = tf.train.match_filenames_once('./output/data_tfrecords-*') "
   ]
  },
  {
   "cell_type": "markdown",
   "metadata": {},
   "source": [
    "#### 通过string_input_producer()函数创建输入队列，输入队列的文件列表是files\n",
    "#### 函数原型string_input_producer(string_tensor,num_epochs,shuffle,capacity,shared_name,name,cancel_op)\n",
    "#### 函数的shuffle参数用于指定是否随即打乱读文件的顺序，在实际问题中会设置为True"
   ]
  },
  {
   "cell_type": "code",
   "execution_count": 3,
   "metadata": {
    "collapsed": false
   },
   "outputs": [],
   "source": [
    "filename_queue = tf.train.string_input_producer(files,shuffle=False)\n",
    "reader = tf.TFRecordReader()\n",
    "_,serialized_example = reader.read(filename_queue)"
   ]
  },
  {
   "cell_type": "markdown",
   "metadata": {},
   "source": [
    "#### 解析读取的样例。"
   ]
  },
  {
   "cell_type": "code",
   "execution_count": 4,
   "metadata": {
    "collapsed": false
   },
   "outputs": [],
   "source": [
    "features = tf.parse_single_example(\n",
    "        serialized_example,\n",
    "        features={\n",
    "        'image_raw': tf.FixedLenFeature([],tf.string),\n",
    "        'pixels': tf.FixedLenFeature([],tf.int64),\n",
    "        'label': tf.FixedLenFeature([],tf.int64)\n",
    "    }\n",
    "    )"
   ]
  },
  {
   "cell_type": "code",
   "execution_count": 5,
   "metadata": {
    "collapsed": false
   },
   "outputs": [],
   "source": [
    "images = tf.decode_raw(features['image_raw'],tf.uint8)\n",
    "labels = tf.cast(features['label'],tf.int32)\n",
    "pixels = tf.cast(features['pixels'],tf.int32)"
   ]
  },
  {
   "cell_type": "code",
   "execution_count": null,
   "metadata": {
    "collapsed": false
   },
   "outputs": [],
   "source": []
  },
  {
   "cell_type": "code",
   "execution_count": 10,
   "metadata": {
    "collapsed": false
   },
   "outputs": [
    {
     "name": "stdout",
     "output_type": "stream",
     "text": [
      "[b'C:\\\\Users\\\\cgy\\\\Documents\\\\tensorflow book\\\\\\xe8\\xaf\\xbb\\xe5\\x8f\\x96\\xe6\\x95\\xb0\\xe6\\x8d\\xae\\xe6\\x96\\xb9\\xe6\\xb3\\x95\\\\output\\\\data_tfrecords-0-of-2'\n",
      " b'C:\\\\Users\\\\cgy\\\\Documents\\\\tensorflow book\\\\\\xe8\\xaf\\xbb\\xe5\\x8f\\x96\\xe6\\x95\\xb0\\xe6\\x8d\\xae\\xe6\\x96\\xb9\\xe6\\xb3\\x95\\\\output\\\\data_tfrecords-1-of-2']\n",
      "[7]\n",
      "[2]\n",
      "[1]\n",
      "[0]\n",
      "[4]\n",
      "[1]\n"
     ]
    }
   ],
   "source": [
    "with tf.Session() as sess:\n",
    "    tf.local_variables_initializer().run()\n",
    "    print(sess.run(files))\n",
    "    coordinator = tf.train.Coordinator()\n",
    "    threads = tf.train.start_queue_runners(sess=sess,coord=coordinator)\n",
    "    for i in range(6):\n",
    "        print(sess.run([labels]))\n",
    "    coordinator.request_stop()\n",
    "    coordinator.join(threads)"
   ]
  },
  {
   "cell_type": "code",
   "execution_count": null,
   "metadata": {
    "collapsed": true
   },
   "outputs": [],
   "source": [
    "\n",
    "\n",
    "\n"
   ]
  },
  {
   "cell_type": "code",
   "execution_count": null,
   "metadata": {
    "collapsed": true
   },
   "outputs": [],
   "source": []
  },
  {
   "cell_type": "code",
   "execution_count": null,
   "metadata": {
    "collapsed": true
   },
   "outputs": [],
   "source": []
  },
  {
   "cell_type": "code",
   "execution_count": null,
   "metadata": {
    "collapsed": false
   },
   "outputs": [],
   "source": []
  },
  {
   "cell_type": "code",
   "execution_count": null,
   "metadata": {
    "collapsed": true
   },
   "outputs": [],
   "source": []
  }
 ],
 "metadata": {
  "anaconda-cloud": {},
  "kernelspec": {
   "display_name": "Python [conda root]",
   "language": "python",
   "name": "conda-root-py"
  },
  "language_info": {
   "codemirror_mode": {
    "name": "ipython",
    "version": 3
   },
   "file_extension": ".py",
   "mimetype": "text/x-python",
   "name": "python",
   "nbconvert_exporter": "python",
   "pygments_lexer": "ipython3",
   "version": "3.5.2"
  }
 },
 "nbformat": 4,
 "nbformat_minor": 1
}
